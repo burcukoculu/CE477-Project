{
  "cells": [
    {
      "cell_type": "markdown",
      "metadata": {
        "id": "FZTmrBV6lqnS"
      },
      "source": [
        "DATA PREP"
      ]
    },
    {
      "cell_type": "code",
      "execution_count": null,
      "metadata": {
        "id": "UZ02OfMVbSmz"
      },
      "outputs": [],
      "source": [
        "import pandas as pd\n",
        "import numpy as np\n",
        "import matplotlib.pyplot as plt\n",
        "from sklearn.utils import shuffle\n",
        "from sklearn.model_selection import train_test_split,  GridSearchCV, cross_val_score\n",
        "from sklearn.metrics import classification_report\n",
        "from sklearn.preprocessing import OneHotEncoder\n",
        "from sklearn.preprocessing import LabelEncoder\n",
        "from sklearn.compose import ColumnTransformer\n",
        "from sklearn.neighbors import KNeighborsClassifier\n",
        "from sklearn.tree import DecisionTreeClassifier\n",
        "from xgboost import XGBClassifier \n",
        "import xgboost as xgb\n",
        "from scipy import stats\n",
        "from sklearn.metrics import *\n",
        "from sklearn.linear_model import LogisticRegression\n",
        "import seaborn as sns\n",
        "\n",
        "\n",
        "data1=pd.read_csv(\"/content/media prediction and its cost.csv\",encoding=\"latin-1\")\n",
        "type = data1.dtypes\n",
        "\n",
        "data =shuffle(data1)\n",
        "\n",
        "x = data.drop(\"food_category\", axis = 1)\n",
        "y = data[[\"food_category\"]]\n",
        "\n",
        "\n",
        "cat_cols = ['food_family', 'sales_country', 'marital_status',\n",
        "            'gender', 'education', 'member_card', 'occupation',\n",
        "            'houseowner', 'avg. yearly_income', 'store_type', 'store_city',\n",
        "            'store_state', 'media_type', 'unit_sales(in millions)', 'total_children',\n",
        "            'avg_cars_at home(approx)', 'num_children_at_home', 'avg_cars_at home(approx).1',\n",
        "            'recyclable_package', 'low_fat', 'coffee_bar', 'video_store', 'salad_bar',\n",
        "            'prepared_food', 'florist']\n",
        "\n",
        "ohe_cols = [col for col in cat_cols if 10 >= data[col].nunique() > 2]\n",
        "X = pd.get_dummies(x, columns = ohe_cols)\n",
        "\n",
        "LE =LabelEncoder()\n",
        "\n",
        "X['food_department'] = LE.fit_transform(X['food_department'])\n",
        "X['promotion_name'] = LE.fit_transform(X['promotion_name'])\n",
        "X['brand_name'] = LE.fit_transform(X['brand_name'])\n",
        "\n",
        "X['media_type'] = LE.fit_transform(X['media_type'])\n",
        "X['store_city'] = LE.fit_transform(X['store_city'])\n",
        "X['houseowner'] = LE.fit_transform(X['houseowner'])\n",
        "X['gender'] = LE.fit_transform(X['gender'])\n",
        "X['marital_status'] = LE.fit_transform(X['marital_status'])\n",
        "\n",
        "y['food_category'] = LE.fit_transform(y['food_category'])\n",
        "type1 = X.dtypes\n",
        "\n",
        "X_train, X_test, Y_train, Y_test = train_test_split(X, y, test_size=0.20, random_state=42)\n",
        "\n",
        "\n",
        "\n"
      ]
    },
    {
      "cell_type": "markdown",
      "metadata": {
        "id": "qTtP9iHhl0N1"
      },
      "source": [
        "DECİSİON TREE"
      ]
    },
    {
      "cell_type": "code",
      "execution_count": null,
      "metadata": {
        "id": "aEThS6SgQ4vg"
      },
      "outputs": [],
      "source": [
        "def dec_tree(X_train, X_test, Y_train, Y_test):\n",
        "\n",
        " model = DecisionTreeClassifier(random_state=17)\n",
        " param = {'max_depth': range(1, 10), \"min_samples_split\": [3, 4]}\n",
        " tree = GridSearchCV(model, param, cv=5, n_jobs=-1, verbose=True)\n",
        " tree.fit(X_train, Y_train)\n",
        " tree.best_params_\n",
        "\n",
        " tune = DecisionTreeClassifier(**tree.best_params_).fit(X_train, Y_train)\n",
        "\n",
        " y_pred = tune.predict(X_test)\n",
        "\n",
        " print(classification_report(Y_test, y_pred))\n"
      ]
    },
    {
      "cell_type": "markdown",
      "metadata": {
        "id": "K5ZzwY_Yl5dN"
      },
      "source": [
        "RANDOM FOREST"
      ]
    },
    {
      "cell_type": "code",
      "execution_count": null,
      "metadata": {
        "id": "16NCzIeqQXtk"
      },
      "outputs": [],
      "source": [
        "from sklearn.ensemble import RandomForestClassifier\n",
        "from sklearn.datasets import make_classification\n",
        "def random_forest(X_train, X_test, Y_train, Y_test):\n",
        "\n",
        "    model = RandomForestClassifier(random_state=42)\n",
        "    param = {\n",
        "        'n_estimators': [200, 500],\n",
        "        'max_features': ['auto', 'sqrt', 'log2'],\n",
        "        'max_depth': [4, 5, 6, 7, 8],\n",
        "        'criterion': ['gini', 'entropy']\n",
        "    }\n",
        "\n",
        "    forest = GridSearchCV(estimator=model, param_grid=param, cv= 5)\n",
        "    forest.fit(X_train, Y_train)\n",
        "    forest.best_params_\n",
        "\n",
        "    tune = RandomForestClassifier(**forest.best_params_).fit(X_train, Y_train)\n",
        "\n",
        "    y_pred = tune.predict(X_test)\n",
        "\n",
        "    print(classification_report(Y_test, y_pred))\n",
        "    print(forest.best_params_)\n",
        "    \n",
        "\n",
        "random_forest(X_train, X_test, Y_train, Y_test)\n",
        "\n"
      ]
    },
    {
      "cell_type": "markdown",
      "metadata": {
        "id": "qw3Yipngl9NU"
      },
      "source": [
        "LİGHTGBM"
      ]
    },
    {
      "cell_type": "code",
      "execution_count": null,
      "metadata": {
        "id": "aZXs8kycf2u_"
      },
      "outputs": [],
      "source": [
        "from lightgbm import LGBMClassifier\n",
        "from lightgbm import plot_importance\n",
        "def light_gbm(X_train, X_test, Y_train, Y_test):\n",
        "\n",
        "    model = LGBMClassifier()\n",
        "    params = {\"learning_rate\": [0.01, 0.1],\n",
        "              \"n_estimators\": [500, 1000],\n",
        "              \"max_depth\": [5, 8, 10],\n",
        "              \"num_leaves\": [32, 64, 128],\n",
        "              \"min_data_in_leaf\": [100, 1000]}\n",
        "\n",
        "    lgbm = GridSearchCV(model,params,cv=5,n_jobs=-1,verbose=2).fit(X_train, Y_train)\n",
        "\n",
        "    lgbm.best_params_\n",
        "\n",
        "    tune = LGBMClassifier(**lgbm.best_params_).fit(X_train, Y_train)\n",
        "\n",
        "    y_pred = tune.predict(X_test)\n",
        "\n",
        "    print(classification_report(Y_test, y_pred))\n",
        "    print(lgbm.best_params_)\n",
        "\n",
        "\n",
        "light_gbm(X_train, X_test, Y_train, Y_test)\n",
        "\n",
        "\n",
        "\"\"\"\n",
        "ı cannot get any answers from that model ı didnt get error but \n",
        "ı waited about 5 hours and model is still training\n",
        "\"\"\""
      ]
    },
    {
      "cell_type": "markdown",
      "source": [
        "KNN and Naive bayes"
      ],
      "metadata": {
        "id": "pbvE3rVBlhGX"
      }
    },
    {
      "cell_type": "code",
      "source": [
        "def knn(X_train, X_test, Y_train, Y_test):\n",
        "\n",
        "    params = {'n_neighbors': np.arange(1, 50)}\n",
        "    model = KNeighborsClassifier()\n",
        "\n",
        "    knn = GridSearchCV(model,params,cv=5)\n",
        "    knn.fit(X_train, Y_train)\n",
        "\n",
        "    knn.best_params_\n",
        "\n",
        "    tune = KNeighborsClassifier(**knn.best_params_).fit(X_train, Y_train)\n",
        "\n",
        "    y_pred = tune.predict(X_test)\n",
        "\n",
        "    print(classification_report(Y_test, y_pred))\n",
        "    print(knn.best_params_)\n",
        "\n",
        "from sklearn.naive_bayes import GaussianNB\n",
        "\n",
        "def n_bayes(X_train, X_test, Y_train, Y_test):\n",
        "    nb = GaussianNB()\n",
        "    nb.fit(X_train, Y_train)\n",
        "\n",
        "    y_pred = nb.predict(X_test)\n",
        "    print(classification_report(Y_test, y_pred))\n",
        "\n"
      ],
      "metadata": {
        "id": "rm7onA2algqa"
      },
      "execution_count": null,
      "outputs": []
    },
    {
      "cell_type": "markdown",
      "source": [
        "print tree"
      ],
      "metadata": {
        "id": "F0iebmscnXKc"
      }
    },
    {
      "cell_type": "code",
      "source": [
        "from sklearn import tree\n",
        "\n",
        "clf = tree.DecisionTreeClassifier(max_depth= 9, min_samples_split= 3)\n",
        "clf.fit(X_train, Y_train)\n",
        "tree.plot_tree(clf);"
      ],
      "metadata": {
        "id": "oXiVm-aUnFft"
      },
      "execution_count": null,
      "outputs": []
    }
  ],
  "metadata": {
    "colab": {
      "provenance": []
    },
    "kernelspec": {
      "display_name": "Python 3",
      "name": "python3"
    },
    "language_info": {
      "name": "python"
    }
  },
  "nbformat": 4,
  "nbformat_minor": 0
}